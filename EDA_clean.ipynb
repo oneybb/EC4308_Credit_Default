{
 "cells": [
  {
   "cell_type": "markdown",
   "id": "73f440b0",
   "metadata": {},
   "source": [
    "# EDA for Credit Card Dataset\n",
    "\n",
    "This notebook is organized into the following sections:\n",
    "\n",
    "1. Install Dependencies\n",
    "2. Imports\n",
    "3. Load Data\n",
    "4. Data Inspection\n",
    "5. Data Cleaning\n",
    "6. Descriptive Statistics\n",
    "7. Correlation Analysis\n",
    "8. Correlation Heatmap\n",
    "9. Collinearity Analysis (VIF)\n",
    "10. Feature-Target Separation and Train/Validation/Test Split"
   ]
  },
  {
   "cell_type": "markdown",
   "id": "1341225b",
   "metadata": {},
   "source": [
    "## 1) Install Dependencies"
   ]
  },
  {
   "cell_type": "code",
   "execution_count": 1,
   "id": "8e927698",
   "metadata": {},
   "outputs": [
    {
     "name": "stdout",
     "output_type": "stream",
     "text": [
      "Requirement already satisfied: scikit-learn in c:\\users\\65835\\appdata\\local\\programs\\python\\python39\\lib\\site-packages (1.4.0)\n",
      "Requirement already satisfied: statsmodels in c:\\users\\65835\\appdata\\local\\programs\\python\\python39\\lib\\site-packages (0.14.2)\n",
      "Requirement already satisfied: numpy<2.0,>=1.19.5 in c:\\users\\65835\\appdata\\local\\programs\\python\\python39\\lib\\site-packages (from scikit-learn) (1.23.5)\n",
      "Requirement already satisfied: scipy>=1.6.0 in c:\\users\\65835\\appdata\\local\\programs\\python\\python39\\lib\\site-packages (from scikit-learn) (1.13.1)\n",
      "Requirement already satisfied: joblib>=1.2.0 in c:\\users\\65835\\appdata\\local\\programs\\python\\python39\\lib\\site-packages (from scikit-learn) (1.3.2)\n",
      "Requirement already satisfied: threadpoolctl>=2.0.0 in c:\\users\\65835\\appdata\\local\\programs\\python\\python39\\lib\\site-packages (from scikit-learn) (3.2.0)\n",
      "Requirement already satisfied: pandas!=2.1.0,>=1.4 in c:\\users\\65835\\appdata\\local\\programs\\python\\python39\\lib\\site-packages (from statsmodels) (2.2.0)\n",
      "Requirement already satisfied: patsy>=0.5.6 in c:\\users\\65835\\appdata\\local\\programs\\python\\python39\\lib\\site-packages (from statsmodels) (0.5.6)\n",
      "Requirement already satisfied: packaging>=21.3 in c:\\users\\65835\\appdata\\roaming\\python\\python39\\site-packages (from statsmodels) (23.2)\n",
      "Requirement already satisfied: python-dateutil>=2.8.2 in c:\\users\\65835\\appdata\\local\\programs\\python\\python39\\lib\\site-packages (from pandas!=2.1.0,>=1.4->statsmodels) (2.8.2)\n",
      "Requirement already satisfied: pytz>=2020.1 in c:\\users\\65835\\appdata\\local\\programs\\python\\python39\\lib\\site-packages (from pandas!=2.1.0,>=1.4->statsmodels) (2025.1)\n",
      "Requirement already satisfied: tzdata>=2022.7 in c:\\users\\65835\\appdata\\local\\programs\\python\\python39\\lib\\site-packages (from pandas!=2.1.0,>=1.4->statsmodels) (2023.4)\n",
      "Requirement already satisfied: six in c:\\users\\65835\\appdata\\local\\programs\\python\\python39\\lib\\site-packages (from patsy>=0.5.6->statsmodels) (1.16.0)\n",
      "Note: you may need to restart the kernel to use updated packages.\n"
     ]
    },
    {
     "name": "stderr",
     "output_type": "stream",
     "text": [
      "\n",
      "[notice] A new release of pip is available: 24.2 -> 25.0.1\n",
      "[notice] To update, run: python.exe -m pip install --upgrade pip\n"
     ]
    }
   ],
   "source": [
    "%pip install scikit-learn statsmodels"
   ]
  },
  {
   "cell_type": "markdown",
   "id": "ecc4a771",
   "metadata": {},
   "source": [
    "## 2) Imports"
   ]
  },
  {
   "cell_type": "code",
   "execution_count": 2,
   "id": "a73c25f1",
   "metadata": {},
   "outputs": [],
   "source": [
    "import pandas as pd\n",
    "import numpy as np\n",
    "import matplotlib.pyplot as plt\n",
    "import seaborn as sns\n",
    "from scipy import stats\n",
    "from sklearn.model_selection import train_test_split\n",
    "from sklearn.preprocessing import StandardScaler\n",
    "from statsmodels.stats.outliers_influence import variance_inflation_factor"
   ]
  },
  {
   "cell_type": "markdown",
   "id": "06897f65",
   "metadata": {},
   "source": [
    "## 3) Load Data"
   ]
  },
  {
   "cell_type": "code",
   "execution_count": 3,
   "id": "a71315b7",
   "metadata": {},
   "outputs": [
    {
     "name": "stdout",
     "output_type": "stream",
     "text": [
      "Data shape: (30000, 25)\n",
      "   ID  LIMIT_BAL  SEX  EDUCATION  MARRIAGE  AGE  PAY_0  PAY_2  PAY_3  PAY_4  \\\n",
      "0   1    20000.0    2          2         1   24      2      2     -1     -1   \n",
      "1   2   120000.0    2          2         2   26     -1      2      0      0   \n",
      "2   3    90000.0    2          2         2   34      0      0      0      0   \n",
      "3   4    50000.0    2          2         1   37      0      0      0      0   \n",
      "4   5    50000.0    1          2         1   57     -1      0     -1      0   \n",
      "\n",
      "   ...  BILL_AMT4  BILL_AMT5  BILL_AMT6  PAY_AMT1  PAY_AMT2  PAY_AMT3  \\\n",
      "0  ...        0.0        0.0        0.0       0.0     689.0       0.0   \n",
      "1  ...     3272.0     3455.0     3261.0       0.0    1000.0    1000.0   \n",
      "2  ...    14331.0    14948.0    15549.0    1518.0    1500.0    1000.0   \n",
      "3  ...    28314.0    28959.0    29547.0    2000.0    2019.0    1200.0   \n",
      "4  ...    20940.0    19146.0    19131.0    2000.0   36681.0   10000.0   \n",
      "\n",
      "   PAY_AMT4  PAY_AMT5  PAY_AMT6  default.payment.next.month  \n",
      "0       0.0       0.0       0.0                           1  \n",
      "1    1000.0       0.0    2000.0                           1  \n",
      "2    1000.0    1000.0    5000.0                           0  \n",
      "3    1100.0    1069.0    1000.0                           0  \n",
      "4    9000.0     689.0     679.0                           0  \n",
      "\n",
      "[5 rows x 25 columns]\n"
     ]
    }
   ],
   "source": [
    "# Load the dataset\n",
    "df = pd.read_csv('data/UCI_Credit_card.csv')\n",
    "\n",
    "# Initial inspection\n",
    "print('Data shape:', df.shape)\n",
    "print(df.head())"
   ]
  },
  {
   "cell_type": "markdown",
   "id": "16f04dbc",
   "metadata": {},
   "source": [
    "## 4) Data Inspection"
   ]
  },
  {
   "cell_type": "code",
   "execution_count": 4,
   "id": "f0b63488",
   "metadata": {},
   "outputs": [
    {
     "name": "stdout",
     "output_type": "stream",
     "text": [
      "ID                              int64\n",
      "LIMIT_BAL                     float64\n",
      "SEX                             int64\n",
      "EDUCATION                       int64\n",
      "MARRIAGE                        int64\n",
      "AGE                             int64\n",
      "PAY_0                           int64\n",
      "PAY_2                           int64\n",
      "PAY_3                           int64\n",
      "PAY_4                           int64\n",
      "PAY_5                           int64\n",
      "PAY_6                           int64\n",
      "BILL_AMT1                     float64\n",
      "BILL_AMT2                     float64\n",
      "BILL_AMT3                     float64\n",
      "BILL_AMT4                     float64\n",
      "BILL_AMT5                     float64\n",
      "BILL_AMT6                     float64\n",
      "PAY_AMT1                      float64\n",
      "PAY_AMT2                      float64\n",
      "PAY_AMT3                      float64\n",
      "PAY_AMT4                      float64\n",
      "PAY_AMT5                      float64\n",
      "PAY_AMT6                      float64\n",
      "default.payment.next.month      int64\n",
      "dtype: object\n",
      "\n",
      "Missing values:\n",
      "ID                            0\n",
      "LIMIT_BAL                     0\n",
      "SEX                           0\n",
      "EDUCATION                     0\n",
      "MARRIAGE                      0\n",
      "AGE                           0\n",
      "PAY_0                         0\n",
      "PAY_2                         0\n",
      "PAY_3                         0\n",
      "PAY_4                         0\n",
      "PAY_5                         0\n",
      "PAY_6                         0\n",
      "BILL_AMT1                     0\n",
      "BILL_AMT2                     0\n",
      "BILL_AMT3                     0\n",
      "BILL_AMT4                     0\n",
      "BILL_AMT5                     0\n",
      "BILL_AMT6                     0\n",
      "PAY_AMT1                      0\n",
      "PAY_AMT2                      0\n",
      "PAY_AMT3                      0\n",
      "PAY_AMT4                      0\n",
      "PAY_AMT5                      0\n",
      "PAY_AMT6                      0\n",
      "default.payment.next.month    0\n",
      "dtype: int64\n",
      "\n",
      "Number of duplicate rows: 0\n"
     ]
    }
   ],
   "source": [
    "# Data types\n",
    "print(df.dtypes)\n",
    "\n",
    "# Missing values\n",
    "print('\\nMissing values:')\n",
    "print(df.isnull().sum())\n",
    "\n",
    "# Duplicate rows\n",
    "num_duplicates = df.duplicated().sum()\n",
    "print(f'\\nNumber of duplicate rows: {num_duplicates}')\n",
    "df = df.drop_duplicates()"
   ]
  },
  {
   "cell_type": "markdown",
   "id": "830ce2dd",
   "metadata": {},
   "source": [
    "## 5) Data Cleaning"
   ]
  },
  {
   "cell_type": "code",
   "execution_count": 5,
   "id": "3acfa172",
   "metadata": {},
   "outputs": [
    {
     "name": "stdout",
     "output_type": "stream",
     "text": [
      "After cleaning, shape: (30000, 24)\n",
      "   LIMIT_BAL  SEX  EDUCATION  MARRIAGE  AGE  PAY_0  PAY_2  PAY_3  PAY_4  \\\n",
      "0    20000.0    2          2         1   24      2      2     -1     -1   \n",
      "1   120000.0    2          2         2   26     -1      2      0      0   \n",
      "2    90000.0    2          2         2   34      0      0      0      0   \n",
      "3    50000.0    2          2         1   37      0      0      0      0   \n",
      "4    50000.0    1          2         1   57     -1      0     -1      0   \n",
      "\n",
      "   PAY_5  ...  BILL_AMT4  BILL_AMT5  BILL_AMT6  PAY_AMT1  PAY_AMT2  PAY_AMT3  \\\n",
      "0     -2  ...        0.0        0.0        0.0       0.0     689.0       0.0   \n",
      "1      0  ...     3272.0     3455.0     3261.0       0.0    1000.0    1000.0   \n",
      "2      0  ...    14331.0    14948.0    15549.0    1518.0    1500.0    1000.0   \n",
      "3      0  ...    28314.0    28959.0    29547.0    2000.0    2019.0    1200.0   \n",
      "4      0  ...    20940.0    19146.0    19131.0    2000.0   36681.0   10000.0   \n",
      "\n",
      "   PAY_AMT4  PAY_AMT5  PAY_AMT6  default.payment.next.month  \n",
      "0       0.0       0.0       0.0                           1  \n",
      "1    1000.0       0.0    2000.0                           1  \n",
      "2    1000.0    1000.0    5000.0                           0  \n",
      "3    1100.0    1069.0    1000.0                           0  \n",
      "4    9000.0     689.0     679.0                           0  \n",
      "\n",
      "[5 rows x 24 columns]\n"
     ]
    }
   ],
   "source": [
    "# Drop irrelevant columns\n",
    "df = df.drop(columns=['ID'])\n",
    "\n",
    "# Recode EDUCATION: 0, 5, 6 -> 4\n",
    "df['EDUCATION'] = df['EDUCATION'].replace({0: 4, 5: 4, 6: 4})\n",
    "\n",
    "# Recode MARRIAGE: 0 -> 3\n",
    "df['MARRIAGE'] = df['MARRIAGE'].replace({0: 3})\n",
    "\n",
    "# Inspect cleaned data\n",
    "print('After cleaning, shape:', df.shape)\n",
    "print(df.head())"
   ]
  },
  {
   "cell_type": "markdown",
   "id": "f172a17c",
   "metadata": {},
   "source": [
    "## 6) Descriptive Statistics"
   ]
  },
  {
   "cell_type": "code",
   "execution_count": 6,
   "id": "ba9bc61f",
   "metadata": {},
   "outputs": [
    {
     "name": "stdout",
     "output_type": "stream",
     "text": [
      "            LIMIT_BAL           SEX     EDUCATION      MARRIAGE           AGE  \\\n",
      "count    30000.000000  30000.000000  30000.000000  30000.000000  30000.000000   \n",
      "mean    167484.322667      1.603733      1.842267      1.557267     35.485500   \n",
      "std     129747.661567      0.489129      0.744494      0.521405      9.217904   \n",
      "min      10000.000000      1.000000      1.000000      1.000000     21.000000   \n",
      "25%      50000.000000      1.000000      1.000000      1.000000     28.000000   \n",
      "50%     140000.000000      2.000000      2.000000      2.000000     34.000000   \n",
      "75%     240000.000000      2.000000      2.000000      2.000000     41.000000   \n",
      "max    1000000.000000      2.000000      4.000000      3.000000     79.000000   \n",
      "\n",
      "              PAY_0         PAY_2         PAY_3         PAY_4         PAY_5  \\\n",
      "count  30000.000000  30000.000000  30000.000000  30000.000000  30000.000000   \n",
      "mean      -0.016700     -0.133767     -0.166200     -0.220667     -0.266200   \n",
      "std        1.123802      1.197186      1.196868      1.169139      1.133187   \n",
      "min       -2.000000     -2.000000     -2.000000     -2.000000     -2.000000   \n",
      "25%       -1.000000     -1.000000     -1.000000     -1.000000     -1.000000   \n",
      "50%        0.000000      0.000000      0.000000      0.000000      0.000000   \n",
      "75%        0.000000      0.000000      0.000000      0.000000      0.000000   \n",
      "max        8.000000      8.000000      8.000000      8.000000      8.000000   \n",
      "\n",
      "       ...      BILL_AMT4      BILL_AMT5      BILL_AMT6       PAY_AMT1  \\\n",
      "count  ...   30000.000000   30000.000000   30000.000000   30000.000000   \n",
      "mean   ...   43262.948967   40311.400967   38871.760400    5663.580500   \n",
      "std    ...   64332.856134   60797.155770   59554.107537   16563.280354   \n",
      "min    ... -170000.000000  -81334.000000 -339603.000000       0.000000   \n",
      "25%    ...    2326.750000    1763.000000    1256.000000    1000.000000   \n",
      "50%    ...   19052.000000   18104.500000   17071.000000    2100.000000   \n",
      "75%    ...   54506.000000   50190.500000   49198.250000    5006.000000   \n",
      "max    ...  891586.000000  927171.000000  961664.000000  873552.000000   \n",
      "\n",
      "           PAY_AMT2      PAY_AMT3       PAY_AMT4       PAY_AMT5  \\\n",
      "count  3.000000e+04   30000.00000   30000.000000   30000.000000   \n",
      "mean   5.921163e+03    5225.68150    4826.076867    4799.387633   \n",
      "std    2.304087e+04   17606.96147   15666.159744   15278.305679   \n",
      "min    0.000000e+00       0.00000       0.000000       0.000000   \n",
      "25%    8.330000e+02     390.00000     296.000000     252.500000   \n",
      "50%    2.009000e+03    1800.00000    1500.000000    1500.000000   \n",
      "75%    5.000000e+03    4505.00000    4013.250000    4031.500000   \n",
      "max    1.684259e+06  896040.00000  621000.000000  426529.000000   \n",
      "\n",
      "            PAY_AMT6  default.payment.next.month  \n",
      "count   30000.000000                30000.000000  \n",
      "mean     5215.502567                    0.221200  \n",
      "std     17777.465775                    0.415062  \n",
      "min         0.000000                    0.000000  \n",
      "25%       117.750000                    0.000000  \n",
      "50%      1500.000000                    0.000000  \n",
      "75%      4000.000000                    0.000000  \n",
      "max    528666.000000                    1.000000  \n",
      "\n",
      "[8 rows x 24 columns]\n"
     ]
    }
   ],
   "source": [
    "print(df.describe())"
   ]
  },
  {
   "cell_type": "markdown",
   "id": "f1f70ca3",
   "metadata": {},
   "source": [
    "## 7) Correlation Analysis"
   ]
  },
  {
   "cell_type": "code",
   "execution_count": 7,
   "id": "ec93995f",
   "metadata": {},
   "outputs": [
    {
     "name": "stdout",
     "output_type": "stream",
     "text": [
      "Correlation Matrix:\n",
      "                            LIMIT_BAL       SEX  EDUCATION  MARRIAGE  \\\n",
      "LIMIT_BAL                    1.000000  0.024755  -0.231088 -0.111012   \n",
      "SEX                          0.024755  1.000000   0.013627 -0.028522   \n",
      "EDUCATION                   -0.231088  0.013627   1.000000 -0.136797   \n",
      "MARRIAGE                    -0.111012 -0.028522  -0.136797  1.000000   \n",
      "AGE                          0.144713 -0.090874   0.182434 -0.412001   \n",
      "PAY_0                       -0.271214 -0.057643   0.112593  0.018557   \n",
      "PAY_2                       -0.296382 -0.070771   0.129703  0.023620   \n",
      "PAY_3                       -0.286123 -0.066096   0.122425  0.032399   \n",
      "PAY_4                       -0.267460 -0.060173   0.116531  0.031831   \n",
      "PAY_5                       -0.249411 -0.055064   0.104088  0.034377   \n",
      "PAY_6                       -0.235195 -0.044008   0.088986  0.033168   \n",
      "BILL_AMT1                    0.285430 -0.033642   0.016597 -0.027832   \n",
      "BILL_AMT2                    0.278314 -0.031183   0.011980 -0.025294   \n",
      "BILL_AMT3                    0.283236 -0.024563   0.006714 -0.029082   \n",
      "BILL_AMT4                    0.293988 -0.021880  -0.006131 -0.027274   \n",
      "BILL_AMT5                    0.295562 -0.017005  -0.012439 -0.029270   \n",
      "BILL_AMT6                    0.290389 -0.016733  -0.012646 -0.025066   \n",
      "PAY_AMT1                     0.195236 -0.000242  -0.041088 -0.004653   \n",
      "PAY_AMT2                     0.178408 -0.001391  -0.032793 -0.009513   \n",
      "PAY_AMT3                     0.210167 -0.008597  -0.044293 -0.004250   \n",
      "PAY_AMT4                     0.203242 -0.002229  -0.040949 -0.013970   \n",
      "PAY_AMT5                     0.217202 -0.001667  -0.045138 -0.003019   \n",
      "PAY_AMT6                     0.219595 -0.002766  -0.044061 -0.008383   \n",
      "default.payment.next.month  -0.153520 -0.039961   0.033842 -0.027575   \n",
      "\n",
      "                                 AGE     PAY_0     PAY_2     PAY_3     PAY_4  \\\n",
      "LIMIT_BAL                   0.144713 -0.271214 -0.296382 -0.286123 -0.267460   \n",
      "SEX                        -0.090874 -0.057643 -0.070771 -0.066096 -0.060173   \n",
      "EDUCATION                   0.182434  0.112593  0.129703  0.122425  0.116531   \n",
      "MARRIAGE                   -0.412001  0.018557  0.023620  0.032399  0.031831   \n",
      "AGE                         1.000000 -0.039447 -0.050148 -0.053048 -0.049722   \n",
      "PAY_0                      -0.039447  1.000000  0.672164  0.574245  0.538841   \n",
      "PAY_2                      -0.050148  0.672164  1.000000  0.766552  0.662067   \n",
      "PAY_3                      -0.053048  0.574245  0.766552  1.000000  0.777359   \n",
      "PAY_4                      -0.049722  0.538841  0.662067  0.777359  1.000000   \n",
      "PAY_5                      -0.053826  0.509426  0.622780  0.686775  0.819835   \n",
      "PAY_6                      -0.048773  0.474553  0.575501  0.632684  0.716449   \n",
      "BILL_AMT1                   0.056239  0.187068  0.234887  0.208473  0.202812   \n",
      "BILL_AMT2                   0.054283  0.189859  0.235257  0.237295  0.225816   \n",
      "BILL_AMT3                   0.053710  0.179785  0.224146  0.227494  0.244983   \n",
      "BILL_AMT4                   0.051353  0.179125  0.222237  0.227202  0.245917   \n",
      "BILL_AMT5                   0.049345  0.180635  0.221348  0.225145  0.242902   \n",
      "BILL_AMT6                   0.047613  0.176980  0.219403  0.222327  0.239154   \n",
      "PAY_AMT1                    0.026147 -0.079269 -0.080701  0.001295 -0.009362   \n",
      "PAY_AMT2                    0.021785 -0.070101 -0.058990 -0.066793 -0.001944   \n",
      "PAY_AMT3                    0.029247 -0.070561 -0.055901 -0.053311 -0.069235   \n",
      "PAY_AMT4                    0.021379 -0.064005 -0.046858 -0.046067 -0.043461   \n",
      "PAY_AMT5                    0.022850 -0.058190 -0.037093 -0.035863 -0.033590   \n",
      "PAY_AMT6                    0.019478 -0.058673 -0.036500 -0.035861 -0.026565   \n",
      "default.payment.next.month  0.013890  0.324794  0.263551  0.235253  0.216614   \n",
      "\n",
      "                               PAY_5  ...  BILL_AMT4  BILL_AMT5  BILL_AMT6  \\\n",
      "LIMIT_BAL                  -0.249411  ...   0.293988   0.295562   0.290389   \n",
      "SEX                        -0.055064  ...  -0.021880  -0.017005  -0.016733   \n",
      "EDUCATION                   0.104088  ...  -0.006131  -0.012439  -0.012646   \n",
      "MARRIAGE                    0.034377  ...  -0.027274  -0.029270  -0.025066   \n",
      "AGE                        -0.053826  ...   0.051353   0.049345   0.047613   \n",
      "PAY_0                       0.509426  ...   0.179125   0.180635   0.176980   \n",
      "PAY_2                       0.622780  ...   0.222237   0.221348   0.219403   \n",
      "PAY_3                       0.686775  ...   0.227202   0.225145   0.222327   \n",
      "PAY_4                       0.819835  ...   0.245917   0.242902   0.239154   \n",
      "PAY_5                       1.000000  ...   0.271915   0.269783   0.262509   \n",
      "PAY_6                       0.816900  ...   0.266356   0.290894   0.285091   \n",
      "BILL_AMT1                   0.206684  ...   0.860272   0.829779   0.802650   \n",
      "BILL_AMT2                   0.226913  ...   0.892482   0.859778   0.831594   \n",
      "BILL_AMT3                   0.243335  ...   0.923969   0.883910   0.853320   \n",
      "BILL_AMT4                   0.271915  ...   1.000000   0.940134   0.900941   \n",
      "BILL_AMT5                   0.269783  ...   0.940134   1.000000   0.946197   \n",
      "BILL_AMT6                   0.262509  ...   0.900941   0.946197   1.000000   \n",
      "PAY_AMT1                   -0.006089  ...   0.233012   0.217031   0.199965   \n",
      "PAY_AMT2                   -0.003191  ...   0.207564   0.181246   0.172663   \n",
      "PAY_AMT3                    0.009062  ...   0.300023   0.252305   0.233770   \n",
      "PAY_AMT4                   -0.058299  ...   0.130191   0.293118   0.250237   \n",
      "PAY_AMT5                   -0.033337  ...   0.160433   0.141574   0.307729   \n",
      "PAY_AMT6                   -0.023027  ...   0.177637   0.164184   0.115494   \n",
      "default.payment.next.month  0.204149  ...  -0.010156  -0.006760  -0.005372   \n",
      "\n",
      "                            PAY_AMT1  PAY_AMT2  PAY_AMT3  PAY_AMT4  PAY_AMT5  \\\n",
      "LIMIT_BAL                   0.195236  0.178408  0.210167  0.203242  0.217202   \n",
      "SEX                        -0.000242 -0.001391 -0.008597 -0.002229 -0.001667   \n",
      "EDUCATION                  -0.041088 -0.032793 -0.044293 -0.040949 -0.045138   \n",
      "MARRIAGE                   -0.004653 -0.009513 -0.004250 -0.013970 -0.003019   \n",
      "AGE                         0.026147  0.021785  0.029247  0.021379  0.022850   \n",
      "PAY_0                      -0.079269 -0.070101 -0.070561 -0.064005 -0.058190   \n",
      "PAY_2                      -0.080701 -0.058990 -0.055901 -0.046858 -0.037093   \n",
      "PAY_3                       0.001295 -0.066793 -0.053311 -0.046067 -0.035863   \n",
      "PAY_4                      -0.009362 -0.001944 -0.069235 -0.043461 -0.033590   \n",
      "PAY_5                      -0.006089 -0.003191  0.009062 -0.058299 -0.033337   \n",
      "PAY_6                      -0.001496 -0.005223  0.005834  0.019018 -0.046434   \n",
      "BILL_AMT1                   0.140277  0.099355  0.156887  0.158303  0.167026   \n",
      "BILL_AMT2                   0.280365  0.100851  0.150718  0.147398  0.157957   \n",
      "BILL_AMT3                   0.244335  0.316936  0.130011  0.143405  0.179712   \n",
      "BILL_AMT4                   0.233012  0.207564  0.300023  0.130191  0.160433   \n",
      "BILL_AMT5                   0.217031  0.181246  0.252305  0.293118  0.141574   \n",
      "BILL_AMT6                   0.199965  0.172663  0.233770  0.250237  0.307729   \n",
      "PAY_AMT1                    1.000000  0.285576  0.252191  0.199558  0.148459   \n",
      "PAY_AMT2                    0.285576  1.000000  0.244770  0.180107  0.180908   \n",
      "PAY_AMT3                    0.252191  0.244770  1.000000  0.216325  0.159214   \n",
      "PAY_AMT4                    0.199558  0.180107  0.216325  1.000000  0.151830   \n",
      "PAY_AMT5                    0.148459  0.180908  0.159214  0.151830  1.000000   \n",
      "PAY_AMT6                    0.185735  0.157634  0.162740  0.157834  0.154896   \n",
      "default.payment.next.month -0.072929 -0.058579 -0.056250 -0.056827 -0.055124   \n",
      "\n",
      "                            PAY_AMT6  default.payment.next.month  \n",
      "LIMIT_BAL                   0.219595                   -0.153520  \n",
      "SEX                        -0.002766                   -0.039961  \n",
      "EDUCATION                  -0.044061                    0.033842  \n",
      "MARRIAGE                   -0.008383                   -0.027575  \n",
      "AGE                         0.019478                    0.013890  \n",
      "PAY_0                      -0.058673                    0.324794  \n",
      "PAY_2                      -0.036500                    0.263551  \n",
      "PAY_3                      -0.035861                    0.235253  \n",
      "PAY_4                      -0.026565                    0.216614  \n",
      "PAY_5                      -0.023027                    0.204149  \n",
      "PAY_6                      -0.025299                    0.186866  \n",
      "BILL_AMT1                   0.179341                   -0.019644  \n",
      "BILL_AMT2                   0.174256                   -0.014193  \n",
      "BILL_AMT3                   0.182326                   -0.014076  \n",
      "BILL_AMT4                   0.177637                   -0.010156  \n",
      "BILL_AMT5                   0.164184                   -0.006760  \n",
      "BILL_AMT6                   0.115494                   -0.005372  \n",
      "PAY_AMT1                    0.185735                   -0.072929  \n",
      "PAY_AMT2                    0.157634                   -0.058579  \n",
      "PAY_AMT3                    0.162740                   -0.056250  \n",
      "PAY_AMT4                    0.157834                   -0.056827  \n",
      "PAY_AMT5                    0.154896                   -0.055124  \n",
      "PAY_AMT6                    1.000000                   -0.053183  \n",
      "default.payment.next.month -0.053183                    1.000000  \n",
      "\n",
      "[24 rows x 24 columns]\n",
      "\n",
      "Highly correlated pairs (|corr| > 0.8):\n",
      "PAY_4 - PAY_5: 0.82\n",
      "PAY_5 - PAY_6: 0.82\n",
      "BILL_AMT1 - BILL_AMT2: 0.95\n",
      "BILL_AMT1 - BILL_AMT3: 0.89\n",
      "BILL_AMT1 - BILL_AMT4: 0.86\n",
      "BILL_AMT1 - BILL_AMT5: 0.83\n",
      "BILL_AMT1 - BILL_AMT6: 0.80\n",
      "BILL_AMT2 - BILL_AMT3: 0.93\n",
      "BILL_AMT2 - BILL_AMT4: 0.89\n",
      "BILL_AMT2 - BILL_AMT5: 0.86\n",
      "BILL_AMT2 - BILL_AMT6: 0.83\n",
      "BILL_AMT3 - BILL_AMT4: 0.92\n",
      "BILL_AMT3 - BILL_AMT5: 0.88\n",
      "BILL_AMT3 - BILL_AMT6: 0.85\n",
      "BILL_AMT4 - BILL_AMT5: 0.94\n",
      "BILL_AMT4 - BILL_AMT6: 0.90\n",
      "BILL_AMT5 - BILL_AMT6: 0.95\n"
     ]
    }
   ],
   "source": [
    "# Compute correlation matrix for numeric columns\n",
    "numeric_cols = df.select_dtypes(include=[np.number]).columns.tolist()\n",
    "corr_matrix = df[numeric_cols].corr()\n",
    "print('Correlation Matrix:') \n",
    "print(corr_matrix)\n",
    "\n",
    "# Identify highly correlated pairs (|corr| > 0.8)\n",
    "threshold = 0.8\n",
    "high_corr_pairs = [\n",
    "    (numeric_cols[i], numeric_cols[j], corr_matrix.iloc[i, j])\n",
    "    for i in range(len(numeric_cols))\n",
    "    for j in range(i + 1, len(numeric_cols))\n",
    "    if abs(corr_matrix.iloc[i, j]) > threshold\n",
    "]\n",
    "if high_corr_pairs:\n",
    "    print(f'\\nHighly correlated pairs (|corr| > {threshold}):')\n",
    "    for var1, var2, val in high_corr_pairs:\n",
    "        print(f'{var1} - {var2}: {val:.2f}')\n",
    "else:\n",
    "    print(f'\\nNo pairs with |corr| > {threshold}')"
   ]
  },
  {
   "cell_type": "markdown",
   "id": "4bcdab8d",
   "metadata": {},
   "source": [
    "## 8) Correlation Heatmap"
   ]
  },
  {
   "cell_type": "code",
   "execution_count": 8,
   "id": "280b742e",
   "metadata": {},
   "outputs": [
    {
     "data": {
      "image/png": "[encoded data removed]",
      "text/plain": [
       "<Figure size 1200x1000 with 2 Axes>"
      ]
     },
     "metadata": {},
     "output_type": "display_data"
    }
   ],
   "source": [
    "plt.figure(figsize=(12, 10))\n",
    "sns.heatmap(corr_matrix, cmap='coolwarm', annot=False, fmt='.2f',\n",
    "            xticklabels=numeric_cols, yticklabels=numeric_cols)\n",
    "plt.title('Correlation Matrix Heatmap', fontsize=16)\n",
    "plt.xticks(rotation=90, fontsize=10)\n",
    "plt.yticks(fontsize=10)\n",
    "plt.tight_layout()\n",
    "plt.show()"
   ]
  },
  {
   "cell_type": "markdown",
   "id": "99a053ac",
   "metadata": {},
   "source": [
    "## 9) Collinearity Analysis (VIF)"
   ]
  },
  {
   "cell_type": "code",
   "execution_count": 9,
   "id": "fc2c5977",
   "metadata": {},
   "outputs": [
    {
     "name": "stdout",
     "output_type": "stream",
     "text": [
      "                       Feature        VIF\n",
      "0                    LIMIT_BAL   4.045208\n",
      "1                          SEX   9.150823\n",
      "2                    EDUCATION   7.404078\n",
      "3                     MARRIAGE   6.372034\n",
      "4                          AGE  11.346002\n",
      "5                        PAY_0   1.996648\n",
      "6                        PAY_2   3.215562\n",
      "7                        PAY_3   3.729150\n",
      "8                        PAY_4   4.440306\n",
      "9                        PAY_5   4.986083\n",
      "10                       PAY_6   3.463773\n",
      "11                   BILL_AMT1  20.843258\n",
      "12                   BILL_AMT2  38.216308\n",
      "13                   BILL_AMT3  31.782858\n",
      "14                   BILL_AMT4  29.548131\n",
      "15                   BILL_AMT5  35.988405\n",
      "16                   BILL_AMT6  21.426343\n",
      "17                    PAY_AMT1   1.908626\n",
      "18                    PAY_AMT2   2.385017\n",
      "19                    PAY_AMT3   1.911656\n",
      "20                    PAY_AMT4   1.805152\n",
      "21                    PAY_AMT5   1.854481\n",
      "22                    PAY_AMT6   1.270676\n",
      "23  default.payment.next.month   1.450469\n"
     ]
    }
   ],
   "source": [
    "# Calculate Variance Inflation Factor (VIF)\n",
    "X = df[numeric_cols].dropna().copy()\n",
    "vif_data = pd.DataFrame()\n",
    "vif_data['Feature'] = X.columns\n",
    "vif_data['VIF'] = [\n",
    "    variance_inflation_factor(X.values, i) \n",
    "    for i in range(X.shape[1])\n",
    "]\n",
    "print(vif_data)"
   ]
  },
  {
   "cell_type": "markdown",
   "id": "575be345",
   "metadata": {},
   "source": [
    "## 10) Feature-Target Separation and Train/Validation/Test Split"
   ]
  },
  {
   "cell_type": "code",
   "execution_count": 10,
   "id": "645c74ef",
   "metadata": {},
   "outputs": [
    {
     "name": "stdout",
     "output_type": "stream",
     "text": [
      "Training set: X=(18000, 23), y=(18000,)\n",
      "Validation set: X=(6000, 23), y=(6000,)\n",
      "Test set: X=(6000, 23), y=(6000,)\n"
     ]
    }
   ],
   "source": [
    "target_col = 'default.payment.next.month'\n",
    "X = df.drop(columns=[target_col])\n",
    "y = df[target_col]\n",
    "\n",
    "# Split 60% train, 20% val, 20% test\n",
    "X_train, X_temp, y_train, y_temp = train_test_split(\n",
    "    X, y, \n",
    "    train_size=0.6, \n",
    "    stratify=y, \n",
    "    random_state=42\n",
    ")\n",
    "X_val, X_test, y_val, y_test = train_test_split(\n",
    "    X_temp, y_temp, \n",
    "    test_size=0.5, \n",
    "    stratify=y_temp, \n",
    "    random_state=42\n",
    ")\n",
    "\n",
    "# Display shapes\n",
    "print(f'Training set: X={X_train.shape}, y={y_train.shape}')\n",
    "print(f'Validation set: X={X_val.shape}, y={y_val.shape}')\n",
    "print(f'Test set: X={X_test.shape}, y={y_test.shape}')"
   ]
  }
 ],
 "metadata": {
  "kernelspec": {
   "display_name": "Python 3",
   "language": "python",
   "name": "python3"
  },
  "language_info": {
   "codemirror_mode": {
    "name": "ipython",
    "version": 3
   },
   "file_extension": ".py",
   "mimetype": "text/x-python",
   "name": "python",
   "nbconvert_exporter": "python",
   "pygments_lexer": "ipython3",
   "version": "3.9.6"
  }
 },
 "nbformat": 4,
 "nbformat_minor": 5
}
